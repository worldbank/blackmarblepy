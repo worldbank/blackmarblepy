{
 "cells": [
  {
   "cell_type": "markdown",
   "id": "73b42bfe-7179-4172-b641-dfe5da287d55",
   "metadata": {},
   "source": [
    "# Using `BlackMarblePy`\n",
    "\n",
    "[![Open In Colab](https://colab.research.google.com/assets/colab-badge.svg)](https://colab.research.google.com/github/worldbank/blackmarblepy/blob/main/notebooks/blackmarblepy.ipynb)\n",
    "[![Binder](https://mybinder.org/badge_logo.svg)](https://mybinder.org/v2/gh/worldbank/blackmarblepy/main?labpath=notebooks%2Fblackmarblepy.ipynb)\n",
    "\n",
    "This Jupyter notebook provides a guided exploration of the [**BlackMarblePy**](https://pypi.org/project/blackmarblepy/) package, showcasing its capabilities for downloading, visualizing, and analyzing NASA Black Marble nighttime lights data. Through interactive examples, you'll learn how to:\n",
    "\n",
    "- Download daily, monthly, and yearly data for specific dates, regions, or bounding boxes.\n",
    "- Visualize downloaded data in various forms, including maps and  bar charts.\n",
    "- Save visualizations and analysis results for further use."
   ]
  },
  {
   "cell_type": "markdown",
   "id": "8d1459c3-09f9-47c6-8d90-43a9829388b6",
   "metadata": {},
   "source": [
    "## Requirements\n",
    "\n",
    "Before downloading or extracting [NASA Black Marble data](https://blackmarble.gsfc.nasa.gov/), make sure the following requirements are met:"
   ]
  },
  {
   "cell_type": "markdown",
   "id": "e74d58e5",
   "metadata": {},
   "source": [
    "### 📦 Install `blackmarblepy`\n",
    "\n",
    "To use this library, install the [blackmarblepy](https://pypi.org/project/blackmarblepy/) package. It is highly recommended to install it inside a [Python virtual environment](https://duckduckgo.com/?t=h_&q=Python+virtual+environment) to avoid dependency conflicts.\n",
    "\n",
    "#### From PyPI\n",
    "\n",
    "```shell\n",
    "pip install blackmarblepy\n",
    "```"
   ]
  },
  {
   "cell_type": "code",
   "execution_count": null,
   "id": "2d68740e-2b4c-4d12-b6b6-85b12a8061f7",
   "metadata": {
    "editable": true,
    "slideshow": {
     "slide_type": ""
    },
    "tags": [
     "remove-cell"
    ]
   },
   "outputs": [],
   "source": [
    "# Install blackmarblepy and extras for examples\n",
    "!pip install \"blackmarblepy[examples]\""
   ]
  },
  {
   "cell_type": "code",
   "execution_count": null,
   "id": "ba22d742-7497-46df-ba8e-e0988f023ca3",
   "metadata": {
    "editable": true,
    "slideshow": {
     "slide_type": ""
    },
    "tags": [
     "hide-cell"
    ]
   },
   "outputs": [],
   "source": [
    "import os\n",
    "import datetime\n",
    "\n",
    "import colorcet as cc\n",
    "import contextily as cx\n",
    "import geopandas\n",
    "import matplotlib.pyplot as plt\n",
    "import pandas as pd\n",
    "from bokeh.plotting import figure, output_notebook, show\n",
    "from bokeh.models import HoverTool, Title\n",
    "\n",
    "from blackmarble.extract import bm_extract\n",
    "from blackmarble.raster import bm_raster\n",
    "\n",
    "from dotenv import load_dotenv\n",
    "\n",
    "%load_ext autoreload\n",
    "%load_ext watermark\n",
    "%autoreload 2\n",
    "\n",
    "load_dotenv()\n",
    "plt.rcParams[\"figure.figsize\"] = (18, 10)\n",
    "\n",
    "%watermark -v -u -n -p blackmarble"
   ]
  },
  {
   "cell_type": "markdown",
   "id": "a79340b3-c016-481e-bdb0-aa1c615c71c3",
   "metadata": {},
   "source": [
    "### ✅ Generate and Set Up Your NASA Earthdata Token\n",
    "\n",
    "**BlackMarblePy** requires a valid, unexpired [NASA Earthdata](https://urs.earthdata.nasa.gov) **bearer token**, which you can retrieve from your [Earthdata profile](https://urs.earthdata.nasa.gov/profile).For ease and security, we recommend [setting this as the BLACKMARBLE_TOKEN environment variable](https://duckduckgo.com/?q=how+to+set+environment+variable+linux+or+mac+or+windows) on your system.\n",
    "\n",
    "1. Access [Earthdata Login](https://urs.earthdata.nasa.gov/profile). In case you haven't already, you must [register](https://urs.earthdata.nasa.gov/users/new).\n",
    "    ```{figure} ../images/nasa_earthdata_profile.png\n",
    "    ---\n",
    "    height: 150px\n",
    "    ---\n",
    "2. Select **Generate Token**. If the token is expired or you are in need of one, click the **Generate Token** button. \n",
    "    ```{figure} ../images/nasa_earthdata_generate_token.png\n",
    "    ---\n",
    "    height: 400px\n",
    "    ---\n",
    "    ```\n",
    "    \n",
    "    ```{caution}\n",
    "    Please be aware that the \"Affiliation\" information on your [Earthdata profile](https://urs.earthdata.nasa.gov/profile/edit) is mandatory. Without this information, the [NASA Earthdata token](https://urs.earthdata.nasa.gov/documentation) will be invalid. In case of a download error, try visiting the URL which is failing, as you may be prompted to grant permissions.\n",
    "    \n",
    "    ![](../images/nasa_earthdata_affiliations.png)\n",
    "    ```\n",
    "    \n",
    "3. Use your token securely with BlackMarblePy. We recommend [setting it as a secret or an environment variable](https://duckduckgo.com/?t=h_&q=environment+variable) rather than hardcoding it. For example, you can set an environment variable to store your token safely:\n",
    "\n",
    "    ```shell\n",
    "    export BLACKMARBLE_TOKEN=<your_nasa_earthdata-token>\n",
    "    ```\n",
    "\n",
    "    ```{important}\n",
    "    Using a secret token securely in Python code involves several practices to ensure the token is not exposed unintentionally. For instance, storing the secret token in an environment variable, in configuration files or using secret management services. In this example, we set up an environment variable.\n",
    "    ```\n",
    "    \n",
    "    ```{seealso}\n",
    "    - [Using Secrets Securely](https://worldbank.github.io/template/notebooks/nasa-apod.html)\n",
    "    - [Best Practices froor Securing API Keys](https://rapidapi.com/guides/practices-api-keys)\n",
    "    - [How to use Secrets in Google Colab](https://medium.com/@parthdasawant/how-to-use-secrets-in-google-colab-450c38e3ec75)\n",
    "    ```"
   ]
  },
  {
   "cell_type": "markdown",
   "id": "59a1e129",
   "metadata": {
    "tags": [
     "remove-cell"
    ]
   },
   "source": [
    " ```python\n",
    "    # An environment variable can obfuscate to secure a secret\n",
    "    import os\n",
    "    \n",
    "    bearer = os.getenv(\"BLACKMARBLE_TOKEN\")\n",
    "    ```\n",
    "    \n",
    "    ```python\n",
    "    # If using Google Colab, use Secrets\n",
    "    from google.colab import userdata\n",
    "    \n",
    "    bearer = userdata.get('BLACKMARBLE_TOKEN')\n",
    "    ```"
   ]
  },
  {
   "cell_type": "code",
   "execution_count": null,
   "id": "fea5c8fa-199c-4f8d-aea1-7a725e9381c7",
   "metadata": {
    "tags": [
     "remove-cell"
    ]
   },
   "outputs": [],
   "source": [
    "# Please the item 3 above\n",
    "# If using Google Colab, you may use Secrets and uncomment below\n",
    "\n",
    "bearer = os.getenv(\"BLACKMARBLE_TOKEN\")\n",
    "\n",
    "# If using Google Colab, you may use Secrets and uncomment below\n",
    "# from google.colab import userdata\n",
    "# os.environ[\"BLACKMARBLE_TOKEN\"] = userdata.get('BLACKMARBLE_TOKEN')"
   ]
  },
  {
   "cell_type": "markdown",
   "id": "f1cce32c-f001-4324-9aeb-1246a3044457",
   "metadata": {},
   "source": [
    "### 🌍  Define Region of Interest\n",
    "\n",
    "You must define a region of interest as a [`geopandas.GeoDataFrame`](https://geopandas.org/en/stable/docs/reference/api/geopandas.GeoDataFrame.html). This should represent the geographic area you want to extract data for.\n",
    "\n",
    "For example, we obtain the polygon below from [GADM](https://gadm.org/download_country.html) for *Ghana*."
   ]
  },
  {
   "cell_type": "code",
   "execution_count": null,
   "id": "1b92066e-704f-4763-b547-f21f97769538",
   "metadata": {
    "tags": [
     "hide-input"
    ]
   },
   "outputs": [],
   "source": [
    "gdf = geopandas.read_file(\n",
    "    \"https://geodata.ucdavis.edu/gadm/gadm4.1/json/gadm41_GHA_1.json.zip\"\n",
    ")\n",
    "gdf.explore(tiles=\"CartoDB dark_matter\")"
   ]
  },
  {
   "cell_type": "markdown",
   "id": "70dd0533-034c-4714-b329-f15e8ea354be",
   "metadata": {},
   "source": [
    "```{figure} ../../images/favicon.ico\n",
    "---\n",
    "height: 0px\n",
    "---\n",
    "This map of Ghana displays the administrative boundaries as obtained from the Global Administrative Areas (GADM) database. The map highlights the regional divisions and key cities, providing a detailed geographic overview of the country. Data source: GADM, version 4.0.\n",
    "```"
   ]
  },
  {
   "cell_type": "markdown",
   "id": "9fcadb6f-a3bf-4db9-98de-956a93080fbe",
   "metadata": {},
   "source": [
    "## Examples\n",
    "\n",
    "In this section, we will demonstrate how to use [BlackMarblePy](https://pypi.org/project/blackmarblepy/) to download and manipulate NASA Black Marble data. "
   ]
  },
  {
   "cell_type": "markdown",
   "id": "ed66fb99-45af-4dc0-ab09-1b9ec84bb890",
   "metadata": {},
   "source": [
    "### Create raster of nighttime lights\n",
    "\n",
    "In this section, we show examples of creating daily, monthly, and annual rasters of nighttime lights for the **Region of Interest** selected."
   ]
  },
  {
   "cell_type": "markdown",
   "id": "648763a2-a8d7-429b-8d27-077f6e783473",
   "metadata": {},
   "source": [
    "\n",
    "#### Daily"
   ]
  },
  {
   "cell_type": "code",
   "execution_count": null,
   "id": "8d02b5cc-f2d1-478f-8368-58eb8703510d",
   "metadata": {
    "tags": [
     "hide-output"
    ]
   },
   "outputs": [],
   "source": [
    "# Daily data: raster for February 5, 2021\n",
    "VNP46A2_20210205 = bm_raster(\n",
    "    gdf, product_id=\"VNP46A2\", date_range=\"2021-02-05\", bearer=bearer\n",
    ")\n",
    "VNP46A2_20210205"
   ]
  },
  {
   "cell_type": "code",
   "execution_count": null,
   "id": "5a444fe3-daf7-454e-9dcd-d4db31d045fc",
   "metadata": {
    "editable": true,
    "slideshow": {
     "slide_type": ""
    },
    "tags": [
     "hide-input"
    ]
   },
   "outputs": [],
   "source": [
    "fig, ax = plt.subplots(figsize=(16, 8))\n",
    "\n",
    "VNP46A2_20210205[\"Gap_Filled_DNB_BRDF-Corrected_NTL\"].sel(\n",
    "    time=\"2021-02-05\"\n",
    ").plot.pcolormesh(\n",
    "    ax=ax,\n",
    "    cmap=cc.cm.bmy,\n",
    "    robust=True,\n",
    ")\n",
    "cx.add_basemap(ax, crs=gdf.crs.to_string())\n",
    "\n",
    "ax.text(\n",
    "    0,\n",
    "    -0.1,\n",
    "    \"Source: NASA Black Marble VNP46A2\",\n",
    "    ha=\"left\",\n",
    "    va=\"center\",\n",
    "    transform=ax.transAxes,\n",
    "    fontsize=10,\n",
    "    color=\"black\",\n",
    "    weight=\"normal\",\n",
    ")\n",
    "ax.set_title(\"Ghana: NTL Radiance on Feb 5 2021\", fontsize=20);"
   ]
  },
  {
   "cell_type": "markdown",
   "id": "7cb14ae3-0e2b-44d3-b225-674ff4f3d237",
   "metadata": {},
   "source": [
    "#### Monthly"
   ]
  },
  {
   "cell_type": "code",
   "execution_count": null,
   "id": "8a4b7bf5-f7f7-4c19-9fd9-be66e53cc26b",
   "metadata": {
    "tags": [
     "hide-output"
    ]
   },
   "outputs": [],
   "source": [
    "# Monthly data: raster for October 2021\n",
    "VNP46A3_202110 = bm_raster(\n",
    "    gdf, product_id=\"VNP46A3\", date_range=\"2021-10-01\", bearer=bearer\n",
    ")\n",
    "VNP46A3_202110"
   ]
  },
  {
   "cell_type": "code",
   "execution_count": null,
   "id": "5b750af6-e592-44ac-a274-b17342028263",
   "metadata": {
    "editable": true,
    "slideshow": {
     "slide_type": ""
    },
    "tags": [
     "hide-input"
    ]
   },
   "outputs": [],
   "source": [
    "fig, ax = plt.subplots(figsize=(16, 8))\n",
    "\n",
    "VNP46A3_202110[\"NearNadir_Composite_Snow_Free\"].sel(time=\"2021-10-01\").plot.pcolormesh(\n",
    "    ax=ax,\n",
    "    cmap=cc.cm.bmy,\n",
    "    robust=True,\n",
    ")\n",
    "cx.add_basemap(ax, crs=gdf.crs.to_string())\n",
    "\n",
    "ax.text(\n",
    "    0,\n",
    "    -0.1,\n",
    "    \"Source: NASA Black Marble VNP46A3\",\n",
    "    ha=\"left\",\n",
    "    va=\"center\",\n",
    "    transform=ax.transAxes,\n",
    "    fontsize=10,\n",
    "    color=\"black\",\n",
    "    weight=\"normal\",\n",
    ")\n",
    "ax.set_title(\"Ghana: NTL Radiance in Oct 2021\", fontsize=20);"
   ]
  },
  {
   "cell_type": "markdown",
   "id": "d6b38e43-7133-441d-9533-903c9d075e1e",
   "metadata": {},
   "source": [
    "#### Annual"
   ]
  },
  {
   "cell_type": "code",
   "execution_count": null,
   "id": "9eadd05b-1529-4707-9b1a-6a9dc9de4760",
   "metadata": {
    "editable": true,
    "slideshow": {
     "slide_type": ""
    },
    "tags": [
     "hide-output"
    ]
   },
   "outputs": [],
   "source": [
    "# Annual data: raster for 2021\n",
    "VNP46A4_2021 = bm_raster(\n",
    "    gdf, product_id=\"VNP46A4\", date_range=\"2021-01-01\", bearer=bearer\n",
    ")\n",
    "VNP46A4_2021"
   ]
  },
  {
   "cell_type": "code",
   "execution_count": null,
   "id": "6403faf1-c1a4-4a7b-9c6f-8f434b33a708",
   "metadata": {
    "editable": true,
    "slideshow": {
     "slide_type": ""
    },
    "tags": [
     "hide-input"
    ]
   },
   "outputs": [],
   "source": [
    "fig, ax = plt.subplots(figsize=(16, 8))\n",
    "\n",
    "VNP46A4_2021[\"NearNadir_Composite_Snow_Free\"].sel(time=\"2021-01-01\").plot.pcolormesh(\n",
    "    ax=ax,\n",
    "    cmap=cc.cm.bmy,\n",
    "    robust=True,\n",
    ")\n",
    "cx.add_basemap(ax, crs=gdf.crs.to_string())\n",
    "\n",
    "ax.text(\n",
    "    0,\n",
    "    -0.1,\n",
    "    \"Source: NASA Black Marble VNP46A4\",\n",
    "    ha=\"left\",\n",
    "    va=\"center\",\n",
    "    transform=ax.transAxes,\n",
    "    fontsize=10,\n",
    "    color=\"black\",\n",
    "    weight=\"normal\",\n",
    ")\n",
    "ax.set_title(\"Ghana: NTL Radiance in 2021\", fontsize=20);"
   ]
  },
  {
   "cell_type": "markdown",
   "id": "2dcb2dfb-186d-43f2-a3af-c92048a607f7",
   "metadata": {},
   "source": [
    "### Create a raster stack of nighttime lights across multiple time periods\n",
    "\n",
    "In this section, we illustrate how to retrieve and extract [NASA Black Marble](https://blackmarble.gsfc.nasa.gov) data for multiple time periods. The function will return a raster stack, where each raster band corresponds to a different date. The following code snippet provides examples of getting data across multiple days, months, and years. For each example, we define a date range using [`pd.date_range`](https://pandas.pydata.org/docs/reference/api/pandas.date_range.html)."
   ]
  },
  {
   "cell_type": "code",
   "execution_count": null,
   "id": "3e218054-3085-48b3-8f9e-f6dea8410e6f",
   "metadata": {
    "editable": true,
    "slideshow": {
     "slide_type": ""
    },
    "tags": [
     "remove-output"
    ]
   },
   "outputs": [],
   "source": [
    "# Raster stack of daily data\n",
    "r_daily = bm_raster(\n",
    "    gdf,\n",
    "    product_id=\"VNP46A2\",\n",
    "    date_range=pd.date_range(\"2022-01-01\", \"2022-03-31\", freq=\"D\"),\n",
    "    bearer=bearer,\n",
    ")"
   ]
  },
  {
   "cell_type": "code",
   "execution_count": null,
   "id": "2bd2f597-5ab6-44ff-a953-aff78f86b15a",
   "metadata": {
    "editable": true,
    "slideshow": {
     "slide_type": ""
    },
    "tags": [
     "remove-input"
    ]
   },
   "outputs": [],
   "source": [
    "r_daily"
   ]
  },
  {
   "cell_type": "code",
   "execution_count": null,
   "id": "2843cf02-e793-4598-9641-0fd455ced384",
   "metadata": {
    "editable": true,
    "slideshow": {
     "slide_type": ""
    },
    "tags": [
     "hide-input"
    ]
   },
   "outputs": [],
   "source": [
    "# Create the figure and axis\n",
    "fig, ax = plt.subplots(figsize=(10, 6))\n",
    "\n",
    "# Plot the mean NTL radiance over the dimensions x and y\n",
    "r_daily[\"Gap_Filled_DNB_BRDF-Corrected_NTL\"].mean(dim=[\"x\", \"y\"]).plot(ax=ax)\n",
    "\n",
    "# Add the data source text\n",
    "ax.text(\n",
    "    0,\n",
    "    -0.2,\n",
    "    \"Source: NASA Black Marble VNP46A2\",\n",
    "    ha=\"left\",\n",
    "    va=\"center\",\n",
    "    transform=ax.transAxes,\n",
    "    fontsize=10,\n",
    "    color=\"black\",\n",
    "    weight=\"normal\",\n",
    ")\n",
    "\n",
    "# Set the title with appropriate fontsize\n",
    "ax.set_title(\"Ghana: Daily Average NTL Radiance\", fontsize=20, weight=\"bold\")\n",
    "\n",
    "# Add labels to the axes\n",
    "ax.set_xlabel(\"Date\", fontsize=12)\n",
    "ax.set_ylabel(\"Radiance (nW/cm²/sr)\", fontsize=12)\n",
    "\n",
    "# Adjust layout for better spacing\n",
    "fig.tight_layout()\n",
    "\n",
    "# Show the plot\n",
    "plt.show()"
   ]
  },
  {
   "cell_type": "markdown",
   "id": "f7675142-193a-4609-91fb-7704d9bd65ab",
   "metadata": {},
   "source": [
    "```{figure} ../../images/favicon.ico\n",
    "---\n",
    "height: 0px\n",
    "---\n",
    "This figures describes the daily average nighttime lights radiance data plotted over time. The data reflects fluctuations in radiance levels due to varying cloud cover, affecting the accuracy of the measurements\n",
    "```"
   ]
  },
  {
   "cell_type": "code",
   "execution_count": null,
   "id": "75594551-b3b8-497f-9c84-ed06b1a5dd32",
   "metadata": {
    "editable": true,
    "slideshow": {
     "slide_type": ""
    },
    "tags": [
     "remove-output"
    ]
   },
   "outputs": [],
   "source": [
    "# Raster stack of monthly data\n",
    "r_monthly = bm_raster(\n",
    "    gdf,\n",
    "    product_id=\"VNP46A3\",\n",
    "    date_range=pd.date_range(\"2022-01-01\", \"2022-12-31\", freq=\"MS\"),\n",
    "    bearer=bearer,\n",
    ")"
   ]
  },
  {
   "cell_type": "code",
   "execution_count": null,
   "id": "c6792dea-ea66-45ac-bd95-bfcfad653835",
   "metadata": {
    "editable": true,
    "slideshow": {
     "slide_type": ""
    },
    "tags": [
     "remove-input"
    ]
   },
   "outputs": [],
   "source": [
    "r_monthly"
   ]
  },
  {
   "cell_type": "code",
   "execution_count": null,
   "id": "dbc9124f-6b18-4303-ba42-4a89e62f83aa",
   "metadata": {
    "tags": [
     "hide-input"
    ]
   },
   "outputs": [],
   "source": [
    "# Create the figure and axis\n",
    "fig, ax = plt.subplots(figsize=(10, 6))\n",
    "\n",
    "# Plot the mean NTL radiance over the dimensions x and y\n",
    "r_monthly[\"NearNadir_Composite_Snow_Free\"].mean(dim=[\"x\", \"y\"]).plot(ax=ax)\n",
    "\n",
    "# Add the data source text\n",
    "ax.text(\n",
    "    0,\n",
    "    -0.2,\n",
    "    \"Source: NASA Black Marble VNP46A3\",\n",
    "    ha=\"left\",\n",
    "    va=\"center\",\n",
    "    transform=ax.transAxes,\n",
    "    fontsize=10,\n",
    "    color=\"black\",\n",
    "    weight=\"normal\",\n",
    ")\n",
    "\n",
    "# Set the title with appropriate fontsize\n",
    "ax.set_title(\"Ghana: Monthly Average NTL Radiance\", fontsize=20, weight=\"bold\")\n",
    "\n",
    "# Add labels to the axes\n",
    "ax.set_xlabel(\"Date\", fontsize=12)\n",
    "ax.set_ylabel(\"Radiance (nW/cm²/sr)\", fontsize=12)\n",
    "\n",
    "# Adjust layout for better spacing\n",
    "fig.tight_layout()\n",
    "\n",
    "# Show the plot\n",
    "plt.show()"
   ]
  },
  {
   "cell_type": "markdown",
   "id": "3c67ec81-36d0-4f64-bb6a-3743e351fe3b",
   "metadata": {},
   "source": [
    "```{figure} ../../images/favicon.ico\n",
    "---\n",
    "height: 0px\n",
    "---\n",
    "This figures describes the monthly average nighttime lights radiance data plotted over time. The data reflects fluctuations in radiance levels due to varying cloud cover, affecting the accuracy of the measurements\n",
    "```"
   ]
  },
  {
   "cell_type": "code",
   "execution_count": null,
   "id": "4833ef8e-80c6-445b-adec-0d8aebb5239f",
   "metadata": {
    "editable": true,
    "slideshow": {
     "slide_type": ""
    },
    "tags": [
     "remove-output"
    ]
   },
   "outputs": [],
   "source": [
    "# Raster stack of yearly data\n",
    "r_yearly = bm_raster(\n",
    "    gdf,\n",
    "    product_id=\"VNP46A4\",\n",
    "    date_range=pd.date_range(\"2019-01-01\", \"2022-01-01\", freq=\"YS\"),\n",
    "    bearer=bearer,\n",
    ")"
   ]
  },
  {
   "cell_type": "code",
   "execution_count": null,
   "id": "483f289f-69c9-488c-a2df-49adb77e0d96",
   "metadata": {
    "editable": true,
    "scrolled": true,
    "slideshow": {
     "slide_type": ""
    },
    "tags": [
     "remove-input"
    ]
   },
   "outputs": [],
   "source": [
    "r_yearly"
   ]
  },
  {
   "cell_type": "code",
   "execution_count": null,
   "id": "77620229-192f-467d-ad92-746203b76ee1",
   "metadata": {
    "editable": true,
    "slideshow": {
     "slide_type": ""
    },
    "tags": [
     "hide-input"
    ]
   },
   "outputs": [],
   "source": [
    "# Set up the figure and subplots\n",
    "fig, axs = plt.subplots(2, 2, figsize=(16, 16))\n",
    "\n",
    "for i, t in enumerate(r_yearly[\"time\"]):\n",
    "    row = i // 2\n",
    "    col = i % 2\n",
    "    ax = axs[row, col]\n",
    "\n",
    "    r_yearly[\"NearNadir_Composite_Snow_Free\"].sel(time=t).plot.pcolormesh(\n",
    "        ax=ax,\n",
    "        cmap=cc.cm.bmw,\n",
    "        robust=True,\n",
    "        vmax=50,\n",
    "    )\n",
    "    cx.add_basemap(ax, crs=gdf.crs.to_string())\n",
    "\n",
    "plt.show()"
   ]
  },
  {
   "cell_type": "markdown",
   "id": "a8731efc-8d83-4203-a9f4-f30e5aa8435a",
   "metadata": {},
   "source": [
    "```{figure} ../../images/favicon.ico\n",
    "---\n",
    "height: 0px\n",
    "---\n",
    "Temporal variation of `NearNadir_Composite_Snow_Free` mapped over multiple years. Each subplot represents a different time period overlaid with a basemap.\n",
    "```"
   ]
  },
  {
   "cell_type": "markdown",
   "id": "9a726a14-5f9c-4fba-900b-f8992e622449",
   "metadata": {
    "tags": []
   },
   "source": [
    "### Downloading and Saving Black Marble Data Locally\n",
    "\n",
    "In this section, we provide a guide on using [BlackMarblePy](https://worldbank.github.io/blackmarblepy) to download [NASA Black Marble](https://blackmarble.gsfc.nasa.gov) data and save it to a specified local directory. You can use the `output_directory` parameter to designate the directory for saving the files. By default, files that have already been downloaded will not be re-downloaded in subsequent executions."
   ]
  },
  {
   "cell_type": "code",
   "execution_count": null,
   "id": "df6a821d-10b6-4634-8984-ac47bd7ba8c8",
   "metadata": {
    "tags": [
     "hide-output"
    ]
   },
   "outputs": [],
   "source": [
    "bm_raster(\n",
    "    gdf,\n",
    "    product_id=\"VNP46A4\",\n",
    "    date_range=pd.date_range(\"2022-01-01\", \"2022-01-01\", freq=\"YS\"),\n",
    "    output_directory=\"data/\",\n",
    "    output_skip_if_exists=True,  # default\n",
    "    bearer=bearer,\n",
    ")"
   ]
  },
  {
   "cell_type": "markdown",
   "id": "d831330c-f4d7-49ce-b1f8-ed2eb7f18595",
   "metadata": {},
   "source": [
    "Alternatively, set `output_skip_if_exists=False` to force the redownload of files from NASA."
   ]
  },
  {
   "cell_type": "code",
   "execution_count": null,
   "id": "f659098b-2d6f-43bc-9147-9b59a604902f",
   "metadata": {
    "tags": [
     "hide-output"
    ]
   },
   "outputs": [],
   "source": [
    "bm_raster(\n",
    "    gdf,\n",
    "    product_id=\"VNP46A4\",\n",
    "    date_range=pd.date_range(\"2022-01-01\", \"2022-01-01\", freq=\"YS\"),\n",
    "    output_directory=\"data/\",\n",
    "    output_skip_if_exists=False,\n",
    "    bearer=bearer,\n",
    ")"
   ]
  },
  {
   "cell_type": "markdown",
   "id": "849663a1-6401-4d86-b6dc-945a872ee597",
   "metadata": {},
   "source": [
    "### Visualizing difference in radiance year over year"
   ]
  },
  {
   "cell_type": "markdown",
   "id": "12b30a59-ab2a-4a44-bffd-b603a0154637",
   "metadata": {},
   "source": [
    "Lastly, we calculate the increase/decrease in nighttime lights radiance levels."
   ]
  },
  {
   "cell_type": "code",
   "execution_count": null,
   "id": "d2c80c0c-2970-4e40-88fb-65fec0ceaf55",
   "metadata": {
    "editable": true,
    "scrolled": true,
    "slideshow": {
     "slide_type": ""
    },
    "tags": [
     "hide-input"
    ]
   },
   "outputs": [],
   "source": [
    "fig, ax = plt.subplots(figsize=(16, 8))\n",
    "\n",
    "delta = (\n",
    "    (\n",
    "        (\n",
    "            r_yearly[\"NearNadir_Composite_Snow_Free\"].sel(time=\"2022-01-01\")\n",
    "            - r_yearly[\"NearNadir_Composite_Snow_Free\"].sel(time=\"2019-01-01\")\n",
    "        )\n",
    "        / r_yearly[\"NearNadir_Composite_Snow_Free\"].sel(time=\"2019-01-01\")\n",
    "    )\n",
    "    # .drop(\"time\")\n",
    "    .plot.pcolormesh(ax=ax, cmap=\"Spectral\", robust=True)\n",
    ")\n",
    "cx.add_basemap(ax, crs=gdf.crs.to_string(), source=cx.providers.CartoDB.DarkMatter)\n",
    "\n",
    "ax.text(\n",
    "    0,\n",
    "    -0.1,\n",
    "    \"Source: NASA Black Marble VNP46A3\",\n",
    "    ha=\"left\",\n",
    "    va=\"center\",\n",
    "    transform=ax.transAxes,\n",
    "    fontsize=10,\n",
    "    color=\"black\",\n",
    "    weight=\"normal\",\n",
    ")\n",
    "ax.set_title(\"Ghana: NTL Radiance Increase/Decrease (2019-2022)\", fontsize=16);"
   ]
  },
  {
   "cell_type": "markdown",
   "id": "3d302674-129a-4c21-b555-11023cb7c9b3",
   "metadata": {},
   "source": [
    "```{figure} ../../images/favicon.ico\n",
    "---\n",
    "height: 0px\n",
    "---\n",
    "This figure displays the percentage change in radiance for Ghana between 2019 and 2022. The data, sourced from NASA's Black Marble VNP46A3 product is visualized with basemap.\n",
    "```"
   ]
  },
  {
   "cell_type": "markdown",
   "id": "35e1add7-3231-42b3-ba18-53cab6216780",
   "metadata": {
    "editable": true,
    "slideshow": {
     "slide_type": ""
    },
    "tags": []
   },
   "source": [
    "### Compute trends on nighttime lights over time\n",
    "\n",
    "In this section, we use the `bm_extract` function to observe treends in nighttime lights over time. The `bm_extract` function leverages the [rasterstats](https://pythonhosted.org/rasterstats/) package to aggregate nighttime lights data to polygons. In the following example, we show trends in annual nighttime lights data across Ghana's first-administrative divisions."
   ]
  },
  {
   "cell_type": "code",
   "execution_count": null,
   "id": "5f708787-01f8-41cd-8c7c-68411101fa70",
   "metadata": {
    "editable": true,
    "slideshow": {
     "slide_type": ""
    },
    "tags": []
   },
   "outputs": [],
   "source": [
    "VNP46A4 = bm_extract(\n",
    "    gdf,\n",
    "    \"VNP46A4\",\n",
    "    pd.date_range(\"2012-01-01\", \"2023-01-01\", freq=\"YS\"),\n",
    "    bearer,\n",
    "    output_directory=\"data/\",\n",
    ")"
   ]
  },
  {
   "cell_type": "code",
   "execution_count": null,
   "id": "e50d419c-4b67-410c-86f5-ad77c7606f56",
   "metadata": {
    "tags": [
     "hide-input"
    ]
   },
   "outputs": [],
   "source": [
    "p = figure(\n",
    "    title=\"Ghana Regions: Annual Average Nighttime Lights Radiance\",\n",
    "    width=760,\n",
    "    height=600,\n",
    "    x_axis_label=\"Year\",\n",
    "    x_axis_type=\"datetime\",\n",
    "    y_axis_type=\"log\",\n",
    "    y_axis_label=\"NTL Radiance\",\n",
    "    tools=\"pan,wheel_zoom,box_zoom,reset,save,box_select\",\n",
    ")\n",
    "p.add_layout(\n",
    "    Title(\n",
    "        text=f\"Source: NASA Black Marble. Creation date: {datetime.datetime.today().strftime('%d %B %Y')}.\",\n",
    "        text_font_size=\"10pt\",\n",
    "        text_font_style=\"italic\",\n",
    "    ),\n",
    "    \"below\",\n",
    ")\n",
    "p.add_tools(\n",
    "    HoverTool(\n",
    "        tooltips=[\n",
    "            (\"Year\", \"@x{%Y}\"),\n",
    "            (\"Radiance\", \"@y{0.00}\"),\n",
    "        ],\n",
    "        formatters={\"@x\": \"datetime\"},\n",
    "    )\n",
    ")\n",
    "\n",
    "data = VNP46A4.pivot_table(\n",
    "    index=\"date\", columns=[\"NAME_1\"], values=[\"ntl_mean\"], aggfunc=\"mean\"\n",
    ")\n",
    "\n",
    "for column, color in zip(data.columns, cc.glasbey):\n",
    "    r = p.line(\n",
    "        data.index,\n",
    "        data[column],\n",
    "        legend_label=column[1],\n",
    "        line_color=color,\n",
    "        line_dash=\"dotdash\",\n",
    "        line_width=2,\n",
    "    )\n",
    "\n",
    "p.legend.click_policy = \"hide\"\n",
    "p.title.text_font_size = \"16pt\"\n",
    "\n",
    "p.add_layout(p.legend[0], \"right\")\n",
    "\n",
    "output_notebook()\n",
    "show(p)"
   ]
  },
  {
   "cell_type": "markdown",
   "id": "f95416f3-f991-4cac-9b54-db732f9e8f5b",
   "metadata": {
    "tags": []
   },
   "source": [
    "```{figure} ../../images/favicon.ico\n",
    "---\n",
    "height: 0px\n",
    "---\n",
    "This figure illustrates the trend in nighttime lights radiance across Ghana over the period from 2012 to 2023. The X-axis represents the years from 2012 to 2023, while the Y-axis measures the radiance in nanowatts per square centimeter per steradian (nW/cm²/sr). The data highlights changes in light intensity, which can be indicative of economic activity, urbanization, and infrastructure development. Data source: NASA Black Marble VNP46A4 retrieved with [BlackMarblePy](https://worldbank.github.io/blackmarblepy).\n",
    "```"
   ]
  },
  {
   "cell_type": "markdown",
   "id": "05ab4577-5dbd-4eeb-b909-66eacdbfaaf6",
   "metadata": {},
   "source": [
    "## References "
   ]
  },
  {
   "cell_type": "markdown",
   "id": "617a8dac-3dd9-4e31-a0b7-40fae61ba2e8",
   "metadata": {},
   "source": [
    "{cite:empty}`ROMAN2018113`\n",
    "{cite:empty}`blackmarblepy`\n",
    "\n",
    "```{bibliography}\n",
    ":filter: docname in docnames\n",
    ":style: plain\n",
    "```"
   ]
  }
 ],
 "metadata": {
  "kernelspec": {
   "display_name": ".venv",
   "language": "python",
   "name": "python3"
  },
  "language_info": {
   "codemirror_mode": {
    "name": "ipython",
    "version": 3
   },
   "file_extension": ".py",
   "mimetype": "text/x-python",
   "name": "python",
   "nbconvert_exporter": "python",
   "pygments_lexer": "ipython3",
   "version": "3.12.9"
  }
 },
 "nbformat": 4,
 "nbformat_minor": 5
}
