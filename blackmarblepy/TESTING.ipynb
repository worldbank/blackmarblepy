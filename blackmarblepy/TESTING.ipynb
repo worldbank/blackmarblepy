{
 "cells": [
  {
   "cell_type": "code",
   "execution_count": 20,
   "id": "a0b20104-d91e-4f3b-9b1b-cb85a78256cc",
   "metadata": {},
   "outputs": [],
   "source": [
    "import geopandas as gpd\n",
    "from gadm import GADMDownloader\n",
    "\n",
    "import rasterio\n",
    "import matplotlib.pyplot as plt\n",
    "import numpy as np\n",
    "import seaborn as sns\n",
    "import pandas as pd\n",
    "import os\n",
    "import datetime\n",
    "import glob\n",
    "import time"
   ]
  },
  {
   "cell_type": "code",
   "execution_count": 21,
   "id": "c3f50722-7bb4-4e54-a5db-b165f3a511f8",
   "metadata": {},
   "outputs": [],
   "source": [
    "import pandas as pd\n",
    "import numpy as np\n",
    "import requests\n",
    "import time\n",
    "import os\n",
    "import re\n",
    "import warnings\n",
    "import datetime \n",
    "import tempfile\n",
    "import subprocess\n",
    "import glob\n",
    "import shutil\n",
    "from itertools import product\n",
    "import geopandas as gpd\n",
    "from rasterstats import zonal_stats\n",
    "import h5py\n",
    "import rasterio\n",
    "from rasterio.mask import mask\n",
    "from rasterio.merge import merge\n",
    "from rasterio.plot import show\n",
    "from rasterio.merge import merge\n",
    "from rasterio.transform import from_origin\n"
   ]
  },
  {
   "cell_type": "code",
   "execution_count": 22,
   "id": "8cee14f0-f26f-422a-81fd-79bcd85a9130",
   "metadata": {},
   "outputs": [],
   "source": [
    "from utils import (cross_df,\n",
    "                month_start_day_to_month,\n",
    "                pad2,\n",
    "                pad3,\n",
    "                file_to_raster,\n",
    "                read_bm_csv,\n",
    "                create_dataset_name_df,\n",
    "                download_raster,\n",
    "                define_variable,\n",
    "                define_date_name,\n",
    "                bm_extract_i,\n",
    "                bm_raster_i)"
   ]
  },
  {
   "cell_type": "code",
   "execution_count": null,
   "id": "442edd73-293d-4677-9f86-258bc7851793",
   "metadata": {},
   "outputs": [],
   "source": []
  },
  {
   "cell_type": "code",
   "execution_count": 23,
   "id": "3282ba42-e180-49c8-9611-0df221c9c3e0",
   "metadata": {},
   "outputs": [],
   "source": [
    "downloader = GADMDownloader(version=\"4.0\")\n",
    "\n",
    "country_name = \"Ghana\"\n",
    "ad_level = 1\n",
    "roi_sf = downloader.get_shape_data_by_country_name(country_name=country_name, ad_level=ad_level)"
   ]
  },
  {
   "cell_type": "code",
   "execution_count": null,
   "id": "1c3c9dbe-a174-47c8-a574-28ac15758816",
   "metadata": {},
   "outputs": [],
   "source": []
  },
  {
   "cell_type": "code",
   "execution_count": null,
   "id": "b1e7927c-e842-4a9c-8948-038c332bfe32",
   "metadata": {},
   "outputs": [],
   "source": []
  },
  {
   "cell_type": "code",
   "execution_count": 24,
   "id": "25f58b1c-c7f7-4a16-b1e4-1e22ec332101",
   "metadata": {},
   "outputs": [],
   "source": [
    "product_id = 'VNP46A4'\n",
    "date = 2021\n",
    "\n",
    "if os.path.exists(\"/Users/robmarty/Desktop/bearer_bm.csv\"):\n",
    "    bearer = pd.read_csv(\"/Users/robmarty/Desktop/bearer_bm.csv\")['token'][0]\n",
    "else:\n",
    "    bearer == \"BEARER TOKEN HERE\""
   ]
  },
  {
   "cell_type": "code",
   "execution_count": 25,
   "id": "a89d8e25-dc82-4777-88d1-ebe7d58ca396",
   "metadata": {},
   "outputs": [],
   "source": [
    "\n",
    "variable=None\n",
    "quality_flag_rm = [255]\n",
    "check_all_tiles_exist = True\n",
    "output_location_type=\"tempfile\"\n",
    "file_dir=None\n",
    "file_prefix=\"\"\n",
    "file_skip_if_exists=True\n",
    "quiet = False\n",
    " \n",
    "    \n",
    "#### Make directory to put temporary files into\n",
    "temp_main_dir = tempfile.gettempdir()\n",
    "\n",
    "current_time_millis = int(round(time.time() * 1000))\n",
    "temp_dir = os.path.join(temp_main_dir, \"bm_raster_temp_\" + str(current_time_millis))\n",
    "\n",
    "os.makedirs(temp_dir)\n",
    "\n",
    "#### Define NTL Variable\n",
    "variable = define_variable(variable, product_id)\n",
    "\n",
    "#### Ensure quality_flag_rm is a list\n",
    "if type(quality_flag_rm) is not list:\n",
    "    quality_flag_rm = [quality_flag_rm]\n",
    "\n",
    "#### Ensure date is a list of strings\n",
    "if type(date) is not list:\n",
    "    date = [date]\n",
    "\n",
    "date = [str(item) for item in date]\n",
    "\n",
    "if file_dir is None:\n",
    "    file_dir = os.getcwd()\n"
   ]
  },
  {
   "cell_type": "code",
   "execution_count": 26,
   "id": "8f2b1d8d-c8a1-4872-be1c-62e197b20575",
   "metadata": {},
   "outputs": [],
   "source": [
    "date_i = \"2021\"\n",
    "\n",
    "date_name_i = define_date_name(date_i, product_id)\n",
    "\n",
    "date = date_i"
   ]
  },
  {
   "cell_type": "code",
   "execution_count": 27,
   "id": "fe7ac4b5-0edc-4cf7-a6d6-068a52e25bd3",
   "metadata": {},
   "outputs": [],
   "source": [
    "#### Prep files to download\n",
    "\n",
    "# Black marble grid: TODO: Add to python repo\n",
    "bm_tiles_sf = gpd.read_file(\"https://raw.githubusercontent.com/worldbank/blackmarbler/main/data/blackmarbletiles.geojson\")\n",
    "\n",
    "\n",
    "# Prep dates            \n",
    "if product_id == \"VNP46A3\":\n",
    "    if len(date) <= 7:\n",
    "        date = date + \"-01\"\n",
    "\n",
    "if product_id == \"VNP46A4\":\n",
    "    if len(date) in [4, 10]:\n",
    "        date = date + \"-01-01\"\n",
    "\n",
    "\n",
    "date = datetime.datetime.strptime(date, \"%Y-%m-%d\").date()\n",
    "\n",
    "# Grab tile dataframe\n",
    "year = date.year\n",
    "month = date.month\n",
    "day = date.timetuple().tm_yday\n",
    "\n",
    "bm_files_df = create_dataset_name_df(product_id=product_id, all=True, years=year, months=month, days=day)\n",
    "\n",
    "# Intersecting tiles\n",
    "bm_tiles_sf = bm_tiles_sf[~bm_tiles_sf[\"TileID\"].str.contains(\"h00\")]\n",
    "bm_tiles_sf = bm_tiles_sf[~bm_tiles_sf[\"TileID\"].str.contains(\"v00\")]\n",
    "\n",
    "grid_use_sf = gpd.overlay(bm_tiles_sf, roi_sf.dissolve(), how='intersection')\n",
    "\n",
    "# Make raster\n",
    "tile_ids_rx = \"|\".join(grid_use_sf[\"TileID\"])\n",
    "bm_files_df = bm_files_df[bm_files_df[\"name\"].str.contains(tile_ids_rx)]\n",
    "bm_files_df = bm_files_df.reset_index()\n",
    "\n",
    "#temp_dir = tempfile.gettempdir()\n",
    "\n",
    "#shutil.rmtree(os.path.join(temp_dir, product_id), ignore_errors=True)\n",
    "\n",
    "#### Create directory for tif files\n",
    "shutil.rmtree(os.path.join(temp_dir, 'tif_files_tmp'), ignore_errors=True)\n",
    "os.makedirs(os.path.join(temp_dir, 'tif_files_tmp'))\n",
    "\n",
    "\n",
    "\n",
    "\n",
    "file_name = bm_files_df['name'][0]\n",
    "\n",
    "n_tile = bm_files_df.shape[0] \n",
    "\n",
    "# Saves files in {temp_dir}/tif_files_tmp, which above is cleared and created\n",
    "#download_raster(file_name, temp_dir, variable, bearer, quality_flag_rm, quiet, tile_i, n_tile)\n",
    "\n",
    "   "
   ]
  },
  {
   "cell_type": "code",
   "execution_count": 43,
   "id": "7ba94033-0617-49e3-8c70-40d2fe786255",
   "metadata": {},
   "outputs": [],
   "source": [
    "# Path\n",
    "year = file_name[9:13]\n",
    "day = file_name[13:16]\n",
    "product_id = file_name[0:7]\n",
    "\n",
    "f = os.path.join(temp_dir, file_name) ##### CHANGEDDDDDD"
   ]
  },
  {
   "cell_type": "code",
   "execution_count": 41,
   "id": "01967a0a-08a5-4559-ac29-b53fca525cf8",
   "metadata": {},
   "outputs": [
    {
     "data": {
      "text/plain": [
       "'/var/folders/m1/8h14xfm56hd6qfgz6btm1rd80000gn/T/bm_raster_temp_1698934131699/VNP46A4.A2021001.h17v07.001.2022094115525.h5'"
      ]
     },
     "execution_count": 41,
     "metadata": {},
     "output_type": "execute_result"
    }
   ],
   "source": []
  },
  {
   "cell_type": "code",
   "execution_count": 18,
   "id": "97373e4c-22ac-405a-bf93-638950b73b99",
   "metadata": {},
   "outputs": [
    {
     "data": {
      "text/plain": [
       "'/var/folders/m1/8h14xfm56hd6qfgz6btm1rd80000gn/T/bm_raster_temp_1698933921458'"
      ]
     },
     "execution_count": 18,
     "metadata": {},
     "output_type": "execute_result"
    }
   ],
   "source": [
    "wget_command = f\"/usr/local/bin/wget -e robots=off -m -np .html,.tmp -nH --cut-dirs=3 'https://ladsweb.modaps.eosdis.nasa.gov/archive/allData/5000/{product_id}/{year}/{day}/{file_name}' --header 'Authorization: Bearer {bearer}' -P {temp_dir}/\" \n",
    "subprocess.run(wget_command, shell=True, stdout=subprocess.DEVNULL, stderr=subprocess.DEVNULL)\n",
    "\n",
    "# Convert to raster\n",
    "file_name_tif = re.sub(\".h5\", \".tif\", file_name)\n",
    "\n",
    "file_to_raster(f, variable, os.path.join(temp_dir, 'tif_files_tmp', file_name_tif), quality_flag_rm)"
   ]
  },
  {
   "cell_type": "code",
   "execution_count": 31,
   "id": "98e0d452-79c3-435f-9638-48675a5dad49",
   "metadata": {},
   "outputs": [
    {
     "name": "stdout",
     "output_type": "stream",
     "text": [
      "Downloaded VNP46A4.A2021001.h17v07.001.2022094115525.h5 to /var/folders/m1/8h14xfm56hd6qfgz6btm1rd80000gn/T/bm_raster_temp_1698934131699/VNP46A4.A2021001.h17v07.001.2022094115525.h5\n"
     ]
    }
   ],
   "source": [
    "url = f'https://ladsweb.modaps.eosdis.nasa.gov/archive/allData/5000/{product_id}/{year}/{day}/{file_name}'\n",
    "headers = {'Authorization': f'Bearer {bearer}'}\n",
    "download_path = os.path.join(temp_dir, file_name)\n",
    "\n",
    "with httpx.stream('GET', url, headers=headers) as response:\n",
    "    if response.status_code == 200:\n",
    "        with open(download_path, 'wb') as file:\n",
    "            for chunk in response.iter_bytes(chunk_size=8192):\n",
    "                file.write(chunk)\n",
    "        print(f\"Downloaded {file_name} to {download_path}\")\n",
    "    else:\n",
    "        print(f\"Failed to download {file_name}. Status code: {response.status_code}\")\n"
   ]
  },
  {
   "cell_type": "code",
   "execution_count": 44,
   "id": "43b461c9-3c1c-416b-b9c1-43d1732677e3",
   "metadata": {},
   "outputs": [
    {
     "data": {
      "text/plain": [
       "'/var/folders/m1/8h14xfm56hd6qfgz6btm1rd80000gn/T/bm_raster_temp_1698934131699'"
      ]
     },
     "execution_count": 44,
     "metadata": {},
     "output_type": "execute_result"
    }
   ],
   "source": [
    "temp_dir"
   ]
  },
  {
   "cell_type": "code",
   "execution_count": 45,
   "id": "88aeb050-0ca7-4971-9f73-871c05f2ddda",
   "metadata": {},
   "outputs": [],
   "source": [
    "file_name_tif = re.sub(\".h5\", \".tif\", file_name)"
   ]
  },
  {
   "cell_type": "code",
   "execution_count": 46,
   "id": "972c8538-bccc-470a-919d-8d0628c11b6f",
   "metadata": {},
   "outputs": [
    {
     "data": {
      "text/plain": [
       "'/var/folders/m1/8h14xfm56hd6qfgz6btm1rd80000gn/T/bm_raster_temp_1698934131699/VNP46A4.A2021001.h17v07.001.2022094115525.h5'"
      ]
     },
     "execution_count": 46,
     "metadata": {},
     "output_type": "execute_result"
    }
   ],
   "source": [
    "f"
   ]
  },
  {
   "cell_type": "code",
   "execution_count": 47,
   "id": "d49afedf-df17-47f9-9e9d-b5a0c7fdc9ba",
   "metadata": {},
   "outputs": [],
   "source": [
    "file_to_raster(f, variable, os.path.join(temp_dir, 'tif_files_tmp', file_name_tif), quality_flag_rm)"
   ]
  },
  {
   "cell_type": "code",
   "execution_count": null,
   "id": "d878a138-b91e-4cf6-957f-d6b4232e739a",
   "metadata": {},
   "outputs": [],
   "source": []
  },
  {
   "cell_type": "code",
   "execution_count": null,
   "id": "bcca9617-d9cd-4eac-a6cb-5489509f5703",
   "metadata": {},
   "outputs": [],
   "source": []
  },
  {
   "cell_type": "code",
   "execution_count": null,
   "id": "bb5369b3-18cb-4235-980a-d7aef9355985",
   "metadata": {},
   "outputs": [],
   "source": []
  },
  {
   "cell_type": "code",
   "execution_count": null,
   "id": "db4d3d59-4ee4-4d18-8e15-5165fbab7db6",
   "metadata": {},
   "outputs": [],
   "source": []
  },
  {
   "cell_type": "code",
   "execution_count": null,
   "id": "0f91e870-81d5-44a9-b7d2-8b0d03f202c5",
   "metadata": {},
   "outputs": [],
   "source": [
    "\n",
    "\n",
    "try:\n",
    "    #### Create raster for each date\n",
    "    raster_path_list = []    \n",
    "    for date_i in date:\n",
    "\n",
    "        date_name_i = define_date_name(date_i, product_id)\n",
    "\n",
    "        raster_path_i = bm_raster_i(roi_sf, product_id, \n",
    "                                    date_i, bearer, \n",
    "                                    variable, quality_flag_rm, check_all_tiles_exist, quiet, temp_dir)\n",
    "        raster_path_list.append(raster_path_i) \n",
    "\n",
    "    #### Stack Rasters\n",
    "    # Read the first file to get the dimensions and metadata\n",
    "    with rasterio.open(raster_path_list[0]) as src:\n",
    "        width = src.width\n",
    "        height = src.height\n",
    "        count = len(raster_path_list)\n",
    "        crs = src.crs\n",
    "        transform = src.transform\n",
    "        dtype = src.dtypes[0]\n",
    "\n",
    "        # Create an empty numpy array to store the raster data\n",
    "        data = np.zeros((count, height, width), dtype=dtype)\n",
    "\n",
    "        # Read data from each file and store it in the numpy array\n",
    "        for i, file_path in enumerate(raster_path_list):\n",
    "            with rasterio.open(file_path) as src:\n",
    "                data[i] = src.read(1)  \n",
    "\n",
    "    # Create a new raster file and write the data\n",
    "    timestamp = str(int(time.time()))\n",
    "    tmp_raster_file_name = product_id + \"_\" + date[0].replace(\"-\", \"_\") + \"_\" + timestamp + \".tif\"\n",
    "\n",
    "    with rasterio.open(os.path.join(temp_dir, \n",
    "                                    tmp_raster_file_name), \n",
    "                       'w', driver='GTiff', width=width, height=height,\n",
    "                       count=count, dtype=dtype, crs=crs, transform=transform) as dst:\n",
    "        for i in range(count):\n",
    "            dst.write(data[i], i+1) \n",
    "\n",
    "    # Move from black marble temp folder to main temp folder\n",
    "    shutil.move(os.path.join(temp_dir, tmp_raster_file_name), \n",
    "                temp_main_dir) \n",
    "\n",
    "    r_out = rasterio.open(os.path.join(temp_main_dir, tmp_raster_file_name))\n",
    "\n",
    "except:\n",
    "    # Delete temp files used to make raster\n",
    "    shutil.rmtree(temp_dir, ignore_errors=True)\n",
    "\n",
    "    if quiet == False:\n",
    "        print(\"Skipping \" + str(date_i) + \" due to error. Data may not be available.\\n\")\n",
    "    r_out = None\n",
    "\n",
    "# Delete temp files used to make raster\n",
    "shutil.rmtree(temp_dir, ignore_errors=True)\n"
   ]
  },
  {
   "cell_type": "code",
   "execution_count": null,
   "id": "59168806-bcc9-4a19-ab91-9cb44b03be15",
   "metadata": {},
   "outputs": [],
   "source": []
  }
 ],
 "metadata": {
  "kernelspec": {
   "display_name": "Python 3 (ipykernel)",
   "language": "python",
   "name": "python3"
  },
  "language_info": {
   "codemirror_mode": {
    "name": "ipython",
    "version": 3
   },
   "file_extension": ".py",
   "mimetype": "text/x-python",
   "name": "python",
   "nbconvert_exporter": "python",
   "pygments_lexer": "ipython3",
   "version": "3.8.13"
  }
 },
 "nbformat": 4,
 "nbformat_minor": 5
}
