{
 "cells": [
  {
   "cell_type": "markdown",
   "id": "73b42bfe-7179-4172-b641-dfe5da287d55",
   "metadata": {},
   "source": [
    "# Examples Using blackmarblepy Package"
   ]
  },
  {
   "cell_type": "markdown",
   "id": "85d75101-6283-4048-a56f-f121d64cb21f",
   "metadata": {},
   "source": [
    "__Table of Contents__\n",
    "* [Setup](#setup)\n",
    "* [Make raster of nighttime lights](#make_rasters)\n",
    "* [Make raster stack of nighttime lights across multiple time periods](#make_stacks)\n",
    "* [Map of nighttime lights](#map)\n",
    "* [Compute trends on nighttime lights over time](#trends)\n",
    "* [Exporting data to files](#to_file)"
   ]
  },
  {
   "cell_type": "markdown",
   "id": "a79340b3-c016-481e-bdb0-aa1c615c71c3",
   "metadata": {},
   "source": [
    "## Setup <a name=\"setup\">"
   ]
  },
  {
   "cell_type": "markdown",
   "id": "8d1459c3-09f9-47c6-8d90-43a9829388b6",
   "metadata": {},
   "source": [
    "#### Install blackmarblepy"
   ]
  },
  {
   "cell_type": "code",
   "execution_count": 1,
   "id": "cf5cc60b-38fe-4d51-8a96-8195dbdc446b",
   "metadata": {},
   "outputs": [
    {
     "name": "stdout",
     "output_type": "stream",
     "text": [
      "\u001b[33mWARNING: Skipping blackmarblepy as it is not installed.\u001b[0m\n"
     ]
    }
   ],
   "source": [
    "! pip uninstall blackmarblepy --yes"
   ]
  },
  {
   "cell_type": "code",
   "execution_count": 2,
   "id": "2f22affc-3575-4761-800b-84700dd7d0ff",
   "metadata": {},
   "outputs": [
    {
     "name": "stdout",
     "output_type": "stream",
     "text": [
      "Collecting git+https://github.com/worldbank/blackmarblepy.git@rob-documentation\n",
      "  Cloning https://github.com/worldbank/blackmarblepy.git (to revision rob-documentation) to /private/var/folders/m1/8h14xfm56hd6qfgz6btm1rd80000gn/T/pip-req-build-ue8ckc4a\n",
      "  Running command git clone -q https://github.com/worldbank/blackmarblepy.git /private/var/folders/m1/8h14xfm56hd6qfgz6btm1rd80000gn/T/pip-req-build-ue8ckc4a\n",
      "  Running command git checkout -b rob-documentation --track origin/rob-documentation\n",
      "  Switched to a new branch 'rob-documentation'\n",
      "  Branch 'rob-documentation' set up to track remote branch 'rob-documentation' from 'origin'.\n",
      "  Resolved https://github.com/worldbank/blackmarblepy.git to commit fadb542197a2ad46705f11290aa9d5ed465ce739\n",
      "Requirement already satisfied: pandas in /Users/robmarty/opt/anaconda3/lib/python3.8/site-packages (from blackmarblepy==0.1.0) (1.4.1)\n",
      "Requirement already satisfied: numpy in /Users/robmarty/opt/anaconda3/lib/python3.8/site-packages (from blackmarblepy==0.1.0) (1.21.2)\n",
      "Requirement already satisfied: requests in /Users/robmarty/opt/anaconda3/lib/python3.8/site-packages (from blackmarblepy==0.1.0) (2.27.1)\n",
      "Requirement already satisfied: datetime in /Users/robmarty/opt/anaconda3/lib/python3.8/site-packages (from blackmarblepy==0.1.0) (5.2)\n",
      "Requirement already satisfied: geopandas in /Users/robmarty/opt/anaconda3/lib/python3.8/site-packages (from blackmarblepy==0.1.0) (0.10.2)\n",
      "Requirement already satisfied: rasterstats in /Users/robmarty/opt/anaconda3/lib/python3.8/site-packages (from blackmarblepy==0.1.0) (0.18.0)\n",
      "Requirement already satisfied: h5py in /Users/robmarty/opt/anaconda3/lib/python3.8/site-packages (from blackmarblepy==0.1.0) (2.10.0)\n",
      "Requirement already satisfied: rasterio in /Users/robmarty/opt/anaconda3/lib/python3.8/site-packages (from blackmarblepy==0.1.0) (1.3.6)\n",
      "Requirement already satisfied: httpx in /Users/robmarty/opt/anaconda3/lib/python3.8/site-packages (from blackmarblepy==0.1.0) (0.25.0)\n",
      "Requirement already satisfied: zope.interface in /Users/robmarty/opt/anaconda3/lib/python3.8/site-packages (from datetime->blackmarblepy==0.1.0) (5.4.0)\n",
      "Requirement already satisfied: pytz in /Users/robmarty/opt/anaconda3/lib/python3.8/site-packages (from datetime->blackmarblepy==0.1.0) (2021.3)\n",
      "Requirement already satisfied: shapely>=1.6 in /Users/robmarty/opt/anaconda3/lib/python3.8/site-packages (from geopandas->blackmarblepy==0.1.0) (1.8.1.post1)\n",
      "Requirement already satisfied: fiona>=1.8 in /Users/robmarty/opt/anaconda3/lib/python3.8/site-packages (from geopandas->blackmarblepy==0.1.0) (1.8.21)\n",
      "Requirement already satisfied: pyproj>=2.2.0 in /Users/robmarty/opt/anaconda3/lib/python3.8/site-packages (from geopandas->blackmarblepy==0.1.0) (3.3.0)\n",
      "Requirement already satisfied: six>=1.7 in /Users/robmarty/opt/anaconda3/lib/python3.8/site-packages (from fiona>=1.8->geopandas->blackmarblepy==0.1.0) (1.16.0)\n",
      "Requirement already satisfied: munch in /Users/robmarty/opt/anaconda3/lib/python3.8/site-packages (from fiona>=1.8->geopandas->blackmarblepy==0.1.0) (2.5.0)\n",
      "Requirement already satisfied: click-plugins>=1.0 in /Users/robmarty/opt/anaconda3/lib/python3.8/site-packages (from fiona>=1.8->geopandas->blackmarblepy==0.1.0) (1.1.1)\n",
      "Requirement already satisfied: setuptools in /Users/robmarty/opt/anaconda3/lib/python3.8/site-packages (from fiona>=1.8->geopandas->blackmarblepy==0.1.0) (58.0.4)\n",
      "Requirement already satisfied: click>=4.0 in /Users/robmarty/opt/anaconda3/lib/python3.8/site-packages (from fiona>=1.8->geopandas->blackmarblepy==0.1.0) (8.0.4)\n",
      "Requirement already satisfied: attrs>=17 in /Users/robmarty/opt/anaconda3/lib/python3.8/site-packages (from fiona>=1.8->geopandas->blackmarblepy==0.1.0) (21.4.0)\n",
      "Requirement already satisfied: certifi in /Users/robmarty/opt/anaconda3/lib/python3.8/site-packages (from fiona>=1.8->geopandas->blackmarblepy==0.1.0) (2021.10.8)\n",
      "Requirement already satisfied: cligj>=0.5 in /Users/robmarty/opt/anaconda3/lib/python3.8/site-packages (from fiona>=1.8->geopandas->blackmarblepy==0.1.0) (0.7.2)\n",
      "Requirement already satisfied: python-dateutil>=2.8.1 in /Users/robmarty/opt/anaconda3/lib/python3.8/site-packages (from pandas->blackmarblepy==0.1.0) (2.8.2)\n",
      "Requirement already satisfied: idna in /Users/robmarty/opt/anaconda3/lib/python3.8/site-packages (from httpx->blackmarblepy==0.1.0) (3.3)\n",
      "Requirement already satisfied: sniffio in /Users/robmarty/opt/anaconda3/lib/python3.8/site-packages (from httpx->blackmarblepy==0.1.0) (1.2.0)\n",
      "Requirement already satisfied: httpcore<0.19.0,>=0.18.0 in /Users/robmarty/opt/anaconda3/lib/python3.8/site-packages (from httpx->blackmarblepy==0.1.0) (0.18.0)\n",
      "Requirement already satisfied: h11<0.15,>=0.13 in /Users/robmarty/opt/anaconda3/lib/python3.8/site-packages (from httpcore<0.19.0,>=0.18.0->httpx->blackmarblepy==0.1.0) (0.13.0)\n",
      "Requirement already satisfied: anyio<5.0,>=3.0 in /Users/robmarty/opt/anaconda3/lib/python3.8/site-packages (from httpcore<0.19.0,>=0.18.0->httpx->blackmarblepy==0.1.0) (3.5.0)\n",
      "Requirement already satisfied: snuggs>=1.4.1 in /Users/robmarty/opt/anaconda3/lib/python3.8/site-packages (from rasterio->blackmarblepy==0.1.0) (1.4.7)\n",
      "Requirement already satisfied: affine in /Users/robmarty/opt/anaconda3/lib/python3.8/site-packages (from rasterio->blackmarblepy==0.1.0) (2.4.0)\n",
      "Requirement already satisfied: pyparsing>=2.1.6 in /Users/robmarty/opt/anaconda3/lib/python3.8/site-packages (from snuggs>=1.4.1->rasterio->blackmarblepy==0.1.0) (3.0.4)\n",
      "Requirement already satisfied: simplejson in /Users/robmarty/opt/anaconda3/lib/python3.8/site-packages (from rasterstats->blackmarblepy==0.1.0) (3.19.1)\n",
      "Requirement already satisfied: charset-normalizer~=2.0.0 in /Users/robmarty/opt/anaconda3/lib/python3.8/site-packages (from requests->blackmarblepy==0.1.0) (2.0.4)\n",
      "Requirement already satisfied: urllib3<1.27,>=1.21.1 in /Users/robmarty/opt/anaconda3/lib/python3.8/site-packages (from requests->blackmarblepy==0.1.0) (1.26.8)\n",
      "Building wheels for collected packages: blackmarblepy\n",
      "  Building wheel for blackmarblepy (setup.py) ... \u001b[?25ldone\n",
      "\u001b[?25h  Created wheel for blackmarblepy: filename=blackmarblepy-0.1.0-py3-none-any.whl size=18932 sha256=10119b412e82b6dd1e60a034e8abfffcc48f6a47e7bd1bcf091c0c1dc2847b60\n",
      "  Stored in directory: /private/var/folders/m1/8h14xfm56hd6qfgz6btm1rd80000gn/T/pip-ephem-wheel-cache-ku82p4zv/wheels/f1/75/0f/f52b2d3851627c922c5fe6761603a0378ce24e1d61cf883ae6\n",
      "Successfully built blackmarblepy\n",
      "Installing collected packages: blackmarblepy\n",
      "Successfully installed blackmarblepy-0.1.0\n"
     ]
    }
   ],
   "source": [
    "#! pip install git+https://github.com/worldbank/blackmarblepy.git\n",
    "\n",
    "! pip install git+https://github.com/worldbank/blackmarblepy.git@rob-documentation"
   ]
  },
  {
   "cell_type": "markdown",
   "id": "9eb7b641-e5bd-42a4-82f3-7b081436112e",
   "metadata": {},
   "source": [
    "#### Load Packages"
   ]
  },
  {
   "cell_type": "code",
   "execution_count": 3,
   "id": "ba22d742-7497-46df-ba8e-e0988f023ca3",
   "metadata": {},
   "outputs": [],
   "source": [
    "import geopandas as gpd\n",
    "from gadm import GADMDownloader\n",
    "\n",
    "import rasterio\n",
    "import matplotlib.pyplot as plt\n",
    "import numpy as np\n",
    "import seaborn as sns\n",
    "import pandas as pd\n",
    "import os\n",
    "import datetime\n",
    "import glob\n",
    "import time\n",
    "\n",
    "from blackmarblepy.bm_raster import bm_raster\n",
    "from blackmarblepy.bm_extract import bm_extract"
   ]
  },
  {
   "cell_type": "markdown",
   "id": "cc878977-7626-4f07-b2a7-d8d727e05134",
   "metadata": {},
   "source": [
    "#### Define NASA Bearer\n",
    "\n",
    "For instructions on obtaining a NASA bearer token, see [here](https://github.com/ramarty/blackmarbler#bearer-token-)."
   ]
  },
  {
   "cell_type": "code",
   "execution_count": 4,
   "id": "fea5c8fa-199c-4f8d-aea1-7a725e9381c7",
   "metadata": {},
   "outputs": [],
   "source": [
    "if os.path.exists(\"/Users/robmarty/Desktop/bearer_bm.csv\"):\n",
    "    bearer = pd.read_csv(\"/Users/robmarty/Desktop/bearer_bm.csv\")['token'][0]\n",
    "else:\n",
    "    bearer == \"BEARER TOKEN HERE\""
   ]
  },
  {
   "cell_type": "markdown",
   "id": "f1cce32c-f001-4324-9aeb-1246a3044457",
   "metadata": {},
   "source": [
    "#### Define Region of Interest\n",
    "\n",
    "Define region of interest for where we want to download nighttime lights data"
   ]
  },
  {
   "cell_type": "code",
   "execution_count": 5,
   "id": "1b92066e-704f-4763-b547-f21f97769538",
   "metadata": {},
   "outputs": [],
   "source": [
    "downloader = GADMDownloader(version=\"4.0\")\n",
    "\n",
    "country_name = \"Ghana\"\n",
    "ad_level = 1\n",
    "roi_sf = downloader.get_shape_data_by_country_name(country_name=country_name, ad_level=ad_level)"
   ]
  },
  {
   "cell_type": "markdown",
   "id": "ed66fb99-45af-4dc0-ab09-1b9ec84bb890",
   "metadata": {},
   "source": [
    "## Make raster of nighttime lights <a name=\"make_rasters\">\n",
    "\n",
    "The below example shows making daily, monthly, and annual rasters of nighttime lights for Ghana."
   ]
  },
  {
   "cell_type": "code",
   "execution_count": 6,
   "id": "b7014ecc-753d-412a-a123-c7fe84569856",
   "metadata": {},
   "outputs": [
    {
     "name": "stdout",
     "output_type": "stream",
     "text": [
      "Downloading 1/4: VNP46A4.A2021001.h17v07.001.2022094115525.h5\n",
      "Downloading 2/4: VNP46A4.A2021001.h17v08.001.2022094115514.h5\n",
      "Downloading 3/4: VNP46A4.A2021001.h18v07.001.2022094115526.h5\n",
      "Downloading 4/4: VNP46A4.A2021001.h18v08.001.2022094115509.h5\n"
     ]
    }
   ],
   "source": [
    "### Daily data: raster for February 5, 2021\n",
    "r_20210205 = bm_raster(roi_sf = roi_sf,\n",
    "                       product_id = \"VNP46A4\",\n",
    "                       date = 2021,\n",
    "                       bearer = bearer)"
   ]
  },
  {
   "cell_type": "code",
   "execution_count": 7,
   "id": "f0e13a16-0468-4af1-8bcd-364aecfd1ab1",
   "metadata": {},
   "outputs": [
    {
     "name": "stdout",
     "output_type": "stream",
     "text": [
      "Downloading 1/4: VNP46A3.A2021274.h17v07.001.2021321132719.h5\n",
      "Downloading 2/4: VNP46A3.A2021274.h17v08.001.2021321132826.h5\n",
      "Downloading 3/4: VNP46A3.A2021274.h18v07.001.2021321132715.h5\n",
      "Downloading 4/4: VNP46A3.A2021274.h18v08.001.2021321132727.h5\n"
     ]
    }
   ],
   "source": [
    "### Monthly data: raster for October 2021\n",
    "r_202110 = bm_raster(roi_sf = roi_sf,\n",
    "                     product_id = \"VNP46A3\",\n",
    "                     date = \"2021-10\",\n",
    "                     bearer = bearer)"
   ]
  },
  {
   "cell_type": "code",
   "execution_count": 8,
   "id": "9eadd05b-1529-4707-9b1a-6a9dc9de4760",
   "metadata": {},
   "outputs": [
    {
     "name": "stdout",
     "output_type": "stream",
     "text": [
      "Downloading: VNP46A4.A2021001.h17v07.001.2022094115525.h5\n",
      "Downloading: VNP46A4.A2021001.h17v08.001.2022094115514.h5\n",
      "Downloading: VNP46A4.A2021001.h18v07.001.2022094115526.h5\n",
      "Downloading: VNP46A4.A2021001.h18v08.001.2022094115509.h5\n"
     ]
    }
   ],
   "source": [
    "### Annual data: raster for 2021\n",
    "r_2021 = bm_raster(roi_sf = roi_sf,\n",
    "                    product_id = \"VNP46A4\",\n",
    "                    date = 2021,\n",
    "                    bearer = bearer)"
   ]
  },
  {
   "cell_type": "markdown",
   "id": "2dcb2dfb-186d-43f2-a3af-c92048a607f7",
   "metadata": {},
   "source": [
    "## Make raster stack of nighttime lights across multiple time periods <a name=\"make_stacks\">\n",
    "\n",
    "To extract data for multiple time periods, add multiple time periods to date. The function will return a raster stack, where each raster band corresponds to a different date. The below code provides examples getting data across multiple days, months, and years.\n",
    "\n",
    "By setting `quiet = True`, we can hide output that shows downloading progress and other messages."
   ]
  },
  {
   "cell_type": "code",
   "execution_count": 9,
   "id": "3e218054-3085-48b3-8f9e-f6dea8410e6f",
   "metadata": {},
   "outputs": [],
   "source": [
    "#### Raster stack of daily data\n",
    "date_list = pd.date_range(datetime.datetime.strptime(\"2021-03-01\", \"%Y-%m-%d\"), \n",
    "                          datetime.datetime.strptime(\"2021-03-03\", \"%Y-%m-%d\"), \n",
    "                          freq='D').strftime(\"%Y-%m-%d\").tolist()\n",
    "\n",
    "r_daily = bm_raster(roi_sf = roi_sf,\n",
    "                     product_id = \"VNP46A2\",\n",
    "                     date = date_list,\n",
    "                     bearer = bearer,\n",
    "                     quiet = True)"
   ]
  },
  {
   "cell_type": "code",
   "execution_count": 10,
   "id": "42d1f400-2063-4d39-8c3b-4ed4052281f4",
   "metadata": {},
   "outputs": [],
   "source": [
    "#### Raster stack of monthly data\n",
    "date_list = pd.date_range(datetime.datetime.strptime(\"2021-01-01\", \"%Y-%m-%d\"), \n",
    "                                            datetime.datetime.strptime(\"2021-03-31\", \"%Y-%m-%d\"), \n",
    "                                            freq='M').strftime(\"%Y-%m-%d\").tolist()\n",
    "\n",
    "r_monthly = bm_raster(roi_sf = roi_sf,\n",
    "                       product_id = \"VNP46A3\",\n",
    "                       date = date_list,\n",
    "                       bearer = bearer,\n",
    "                       quiet = True)                   "
   ]
  },
  {
   "cell_type": "code",
   "execution_count": 11,
   "id": "4833ef8e-80c6-445b-adec-0d8aebb5239f",
   "metadata": {},
   "outputs": [],
   "source": [
    "#### Raster stack of annual data\n",
    "r_annual = bm_raster(roi_sf = roi_sf,\n",
    "                      product_id = \"VNP46A4\",\n",
    "                      date = list(range(2019, 2022)),\n",
    "                      bearer = bearer,\n",
    "                      quiet = True)"
   ]
  },
  {
   "cell_type": "markdown",
   "id": "a9c10d77-c7e3-45b4-8555-1c2812864bdf",
   "metadata": {},
   "source": [
    "## Map of nighttime lights <a name=\"map\">\n",
    "\n",
    "Below shows an example of making maps of nighttime lights for three years."
   ]
  },
  {
   "cell_type": "code",
   "execution_count": 12,
   "id": "6e2d8894-c98e-49e1-a28b-fda85174f2a0",
   "metadata": {},
   "outputs": [
    {
     "name": "stdout",
     "output_type": "stream",
     "text": [
      "Downloading: VNP46A4.A2012001.h17v07.001.2021124115841.h5\n",
      "Downloading: VNP46A4.A2012001.h17v08.001.2021124121320.h5\n",
      "Downloading: VNP46A4.A2012001.h18v07.001.2021124121239.h5\n",
      "Downloading: VNP46A4.A2012001.h18v08.001.2021124115800.h5\n",
      "Downloading: VNP46A4.A2017001.h17v07.001.2021121001248.h5\n",
      "Downloading: VNP46A4.A2017001.h17v08.001.2021120235343.h5\n",
      "Downloading: VNP46A4.A2017001.h18v07.001.2021120142430.h5\n",
      "Downloading: VNP46A4.A2017001.h18v08.001.2021120141401.h5\n",
      "Downloading: VNP46A4.A2022001.h17v07.001.2023081124022.h5\n",
      "Downloading: VNP46A4.A2022001.h17v08.001.2023081124059.h5\n",
      "Downloading: VNP46A4.A2022001.h18v07.001.2023081223927.h5\n",
      "Downloading: VNP46A4.A2022001.h18v08.001.2023082112122.h5\n"
     ]
    }
   ],
   "source": [
    "## Download data\n",
    "r_annual_121722 = bm_raster(roi_sf = roi_sf,\n",
    "                            product_id = \"VNP46A4\",\n",
    "                            date = [2012, 2017, 2022], \n",
    "                            bearer = bearer,\n",
    "                            quiet = False)"
   ]
  },
  {
   "cell_type": "code",
   "execution_count": 13,
   "id": "11173c1d-23c6-441c-9869-de88e079a2d1",
   "metadata": {},
   "outputs": [
    {
     "data": {
      "image/png": "[encoded data removed]",
      "text/plain": [
       "<Figure size 864x288 with 3 Axes>"
      ]
     },
     "metadata": {
      "needs_background": "light"
     },
     "output_type": "display_data"
    }
   ],
   "source": [
    "# Set up the figure and subplots\n",
    "fig, axs = plt.subplots(1, 3, figsize=(12, 4))\n",
    "\n",
    "# Generate the images and configure each subplot\n",
    "for i, year in enumerate([2012, 2017, 2022]):\n",
    "\n",
    "    r_np = r_annual_121722.read(i+1)\n",
    "    r_np = np.log(r_np+1)\n",
    "    \n",
    "    ax = axs[i]\n",
    "\n",
    "    # Display the image\n",
    "    ax.imshow(r_np, cmap='hot')\n",
    "    ax.axis(\"off\")\n",
    "    ax.set_title(\"NTL: {}\".format(year))\n",
    "\n",
    "# Adjust the spacing between subplots\n",
    "plt.tight_layout()\n",
    "\n",
    "# Show the figure\n",
    "plt.show()"
   ]
  },
  {
   "cell_type": "markdown",
   "id": "35e1add7-3231-42b3-ba18-53cab6216780",
   "metadata": {},
   "source": [
    "## Compute trends on nighttime lights over time <a name=\"trends\">\n",
    "\n",
    "We can use the `bm_extract` function to observe changes in nighttime lights over time. The `bm_extract` function leverages the [rasterstats](https://pythonhosted.org/rasterstats/) package to aggregate nighttime lights data to polygons. Below we show trends in annual nighttime lights data across Ghana's first administrative divisions."
   ]
  },
  {
   "cell_type": "code",
   "execution_count": 14,
   "id": "5f708787-01f8-41cd-8c7c-68411101fa70",
   "metadata": {},
   "outputs": [],
   "source": [
    "ntl_df = bm_extract(roi_sf = roi_sf,\n",
    "                    product_id = \"VNP46A4\",\n",
    "                    date = list(range(2012, 2023)),\n",
    "                    bearer = bearer,\n",
    "                    quiet = True)"
   ]
  },
  {
   "cell_type": "code",
   "execution_count": 15,
   "id": "70a6bf3f-6b29-4409-b39c-02004c228ffe",
   "metadata": {},
   "outputs": [
    {
     "data": {
      "image/png": "[encoded data removed]",
      "text/plain": [
       "<Figure size 648x720 with 10 Axes>"
      ]
     },
     "metadata": {},
     "output_type": "display_data"
    }
   ],
   "source": [
    "sns.set(style=\"whitegrid\")\n",
    "g = sns.catplot(data=ntl_df, kind=\"bar\", x=\"date\", y=\"ntl_mean\", col=\"NAME_1\", height=2.5, col_wrap = 3, aspect=1.2, color = \"orange\")\n",
    "\n",
    "# Set the x-axis rotation for better visibility\n",
    "g.set_xticklabels(rotation=45)\n",
    "\n",
    "# Adjust spacing between subplots\n",
    "plt.tight_layout()\n",
    "\n",
    "# Show the plot\n",
    "plt.show()"
   ]
  },
  {
   "cell_type": "markdown",
   "id": "3101d995-9e8d-40cf-8329-9ff841feab9a",
   "metadata": {},
   "source": [
    "## Export data to files <a name=\"to_file\">\n",
    "\n",
    "The above examples load raster data into memory. However, some workflows may benefit from first downloading raster data, then further processing it. The `bm_raster` and `bm_extract` functions facilitate these workflows."
   ]
  },
  {
   "cell_type": "markdown",
   "id": "1639a8cb-bf54-46f6-aec3-520fdcca5e5b",
   "metadata": {},
   "source": [
    "#### Download annual data to files\n",
    "\n",
    "By setting `output_location_type = \"file\"`, the functions will export data; `bm_raster` will export `.tif` files, and `bm_extract` will export `.csv` files. \n",
    "\n",
    "The functions will export one file per time period; for example, for annual data, an individual `.tif` or `.csv` file will be exported for each year. By default, the function will check if the file has already been downloaded and will skip already downloaded files. "
   ]
  },
  {
   "cell_type": "code",
   "execution_count": 19,
   "id": "2e2d0bfc-802d-4d92-b6a5-61856c1d6fdc",
   "metadata": {},
   "outputs": [],
   "source": [
    "# Define root directory\n",
    "if os.path.exists(\"/Users/robmarty/Desktop\"):\n",
    "    root_dir = \"/Users/robmarty/Desktop\"\n",
    "else:\n",
    "    root_dir = os.getcwd()\n",
    "    \n",
    "# Directory for BlackMarble files\n",
    "bm_files_path = os.path.join(root_dir, \"bm_files\")\n",
    "\n",
    "# Directory to put individual daily files\n",
    "annual_raster_path = os.path.join(root_dir, \"bm_files\", \"annual_raster\")\n",
    "annual_csv_path    = os.path.join(root_dir, \"bm_files\", \"annual_csv\")\n",
    "\n",
    "# Make directories\n",
    "os.makedirs(bm_files_path, exist_ok=True)\n",
    "os.makedirs(annual_raster_path, exist_ok=True)\n",
    "os.makedirs(annual_csv_path, exist_ok=True)"
   ]
  },
  {
   "cell_type": "code",
   "execution_count": 20,
   "id": "4cdf9773-8b00-4409-becf-d032e60c7180",
   "metadata": {},
   "outputs": [],
   "source": [
    "## Download annual raster data\n",
    "## A .tif file for each year is exported to the \"annual_raster_path\" directory\n",
    "\n",
    "bm_raster(roi_sf = roi_sf,\n",
    "          product_id = \"VNP46A4\",\n",
    "          date = list(range(2012, 2023)),\n",
    "          bearer = bearer,\n",
    "          quiet = True,\n",
    "          output_location_type = \"file\",\n",
    "          file_dir = annual_raster_path)"
   ]
  },
  {
   "cell_type": "code",
   "execution_count": 21,
   "id": "438e6e75-e81d-4d0b-8d2f-2b738849443a",
   "metadata": {},
   "outputs": [],
   "source": [
    "## Download annual csv data, with average NTL data aggregated to first ADM level\n",
    "## A .csv file for each year is exported to the \"annual_csv_path\" directory\n",
    "\n",
    "bm_extract(roi_sf = roi_sf,\n",
    "           product_id = \"VNP46A4\",\n",
    "           date = list(range(2012, 2023)),\n",
    "           bearer = bearer,\n",
    "           quiet = True,\n",
    "           output_location_type = \"file\",\n",
    "           file_dir = annual_csv_path)"
   ]
  },
  {
   "cell_type": "markdown",
   "id": "6232f6c7-7279-41e8-b652-e84038110da5",
   "metadata": {},
   "source": [
    "#### Workflow to update data\n",
    "\n",
    "Some users may want to monitor near-real-time changes in nighttime lights. For example, daily Black Marble nighttime lights data is updated regularly, where data is available roughly on a week delay; some use cases may require examining trends in daily nighttime lights data as new data becomes available. Below shows example code that could be regularly run to produce an updated daily dataset of nighttime lights.\n",
    "\n",
    "The below code produces a dataframe of nighttime lights for each date, where average nighttime lights for Ghana's 1st administrative division is produced. The code will check whether data has already been downloaded/extracted for a specific date, and only download/extract new data."
   ]
  },
  {
   "cell_type": "code",
   "execution_count": 6,
   "id": "602acd62-3afe-44ec-b539-06f819c8e461",
   "metadata": {},
   "outputs": [],
   "source": [
    "# Make root directory\n",
    "if os.path.exists(\"/Users/robmarty/Desktop\"):\n",
    "    root_dir = \"/Users/robmarty/Desktop\"\n",
    "else:\n",
    "    root_dir = os.getcwd()\n",
    "\n",
    "# Directory for BlackMarble files\n",
    "bm_files_path = os.path.join(root_dir, \"bm_files\")\n",
    "\n",
    "# Directory to put individual daily files\n",
    "daily_path    = os.path.join(root_dir, \"bm_files\", \"daily\")\n",
    "\n",
    "os.makedirs(bm_files_path, exist_ok=True)\n",
    "os.makedirs(daily_path, exist_ok=True)"
   ]
  },
  {
   "cell_type": "code",
   "execution_count": 7,
   "id": "08ed30c5-a814-4e5a-83c7-94b6868301c6",
   "metadata": {},
   "outputs": [
    {
     "name": "stdout",
     "output_type": "stream",
     "text": [
      "Not all satellite imagery tiles for this location exist, so skipping. To ignore this error and process anyway, set check_all_tiles_exist = False\n",
      "Skipping 2023-07-15 due to error. Data may not be available.\n",
      "\n",
      "Skipping 2023-07-16 due to error. Data may not be available.\n",
      "\n",
      "Skipping 2023-07-17 due to error. Data may not be available.\n",
      "\n",
      "Skipping 2023-07-18 due to error. Data may not be available.\n",
      "\n",
      "Skipping 2023-07-19 due to error. Data may not be available.\n",
      "\n",
      "Skipping 2023-07-20 due to error. Data may not be available.\n",
      "\n",
      "Skipping 2023-07-21 due to error. Data may not be available.\n",
      "\n",
      "Skipping 2023-07-22 due to error. Data may not be available.\n",
      "\n",
      "Skipping 2023-07-23 due to error. Data may not be available.\n",
      "\n",
      "Skipping 2023-07-24 due to error. Data may not be available.\n",
      "\n",
      "Skipping 2023-07-25 due to error. Data may not be available.\n",
      "\n",
      "Skipping 2023-07-26 due to error. Data may not be available.\n",
      "\n",
      "Skipping 2023-07-27 due to error. Data may not be available.\n",
      "\n",
      "Skipping 2023-07-28 due to error. Data may not be available.\n",
      "\n",
      "Skipping 2023-07-29 due to error. Data may not be available.\n",
      "\n",
      "Skipping 2023-07-30 due to error. Data may not be available.\n",
      "\n",
      "Skipping 2023-07-31 due to error. Data may not be available.\n",
      "\n",
      "Skipping 2023-08-01 due to error. Data may not be available.\n",
      "\n",
      "Skipping 2023-08-02 due to error. Data may not be available.\n",
      "\n",
      "Skipping 2023-08-03 due to error. Data may not be available.\n",
      "\n",
      "Skipping 2023-08-04 due to error. Data may not be available.\n",
      "\n"
     ]
    }
   ],
   "source": [
    "date_list = pd.date_range(datetime.datetime.strptime(\"2023-07-01\", \"%Y-%m-%d\"), \n",
    "                                          datetime.date.today(), \n",
    "                                          freq='D').strftime(\"%Y-%m-%d\").tolist()\n",
    "\n",
    "bm_extract(roi_sf = roi_sf,\n",
    "           product_id = \"VNP46A2\",\n",
    "           date = date_list,\n",
    "           bearer = bearer,\n",
    "           output_location_type = \"file\",\n",
    "           file_dir = os.path.join(root_dir, \"bm_files\", \"daily\"),\n",
    "           quiet = True)"
   ]
  },
  {
   "cell_type": "code",
   "execution_count": 8,
   "id": "56129937-050b-46ae-82a6-0ab14473533d",
   "metadata": {},
   "outputs": [],
   "source": [
    "#### Create individual file of daily nighttime lights\n",
    "\n",
    "# Make list of daily NTL .csv files\n",
    "file_list = glob.glob(os.path.join(root_dir, \"bm_files\", \"daily\") + \"/\" + \"*.csv\")\n",
    "\n",
    "# Read individual .csv, make list of dataframes\n",
    "df_list = [pd.read_csv(file) for file in file_list]\n",
    "\n",
    "# Append dataframes\n",
    "ntl_df = pd.concat(df_list, ignore_index=True)\n",
    "\n",
    "# Export appended dataframes\n",
    "ntl_df.to_csv(os.path.join(root_dir, \"bm_files\", \"ntl_daily.csv\"), index=False)"
   ]
  },
  {
   "cell_type": "code",
   "execution_count": 17,
   "id": "63cee8fc-d6b0-4114-aba3-e84ce4ddcd75",
   "metadata": {},
   "outputs": [
    {
     "data": {
      "text/html": [
       "<div>\n",
       "<style scoped>\n",
       "    .dataframe tbody tr th:only-of-type {\n",
       "        vertical-align: middle;\n",
       "    }\n",
       "\n",
       "    .dataframe tbody tr th {\n",
       "        vertical-align: top;\n",
       "    }\n",
       "\n",
       "    .dataframe thead th {\n",
       "        text-align: right;\n",
       "    }\n",
       "</style>\n",
       "<table border=\"1\" class=\"dataframe\">\n",
       "  <thead>\n",
       "    <tr style=\"text-align: right;\">\n",
       "      <th></th>\n",
       "      <th>ID_0</th>\n",
       "      <th>COUNTRY</th>\n",
       "      <th>ID_1</th>\n",
       "      <th>NAME_1</th>\n",
       "      <th>VARNAME_1</th>\n",
       "      <th>NL_NAME_1</th>\n",
       "      <th>TYPE_1</th>\n",
       "      <th>ENGTYPE_1</th>\n",
       "      <th>CC_1</th>\n",
       "      <th>HASC_1</th>\n",
       "      <th>ISO_1</th>\n",
       "      <th>ntl_mean</th>\n",
       "      <th>date</th>\n",
       "    </tr>\n",
       "  </thead>\n",
       "  <tbody>\n",
       "    <tr>\n",
       "      <th>64</th>\n",
       "      <td>GHA</td>\n",
       "      <td>Ghana</td>\n",
       "      <td>GHA.5_1</td>\n",
       "      <td>Greater Accra</td>\n",
       "      <td></td>\n",
       "      <td></td>\n",
       "      <td>Region</td>\n",
       "      <td>Region</td>\n",
       "      <td></td>\n",
       "      <td>GH.AA</td>\n",
       "      <td></td>\n",
       "      <td>129.232340</td>\n",
       "      <td>2023-07-01</td>\n",
       "    </tr>\n",
       "    <tr>\n",
       "      <th>63</th>\n",
       "      <td>GHA</td>\n",
       "      <td>Ghana</td>\n",
       "      <td>GHA.4_1</td>\n",
       "      <td>Eastern</td>\n",
       "      <td></td>\n",
       "      <td></td>\n",
       "      <td>Region</td>\n",
       "      <td>Region</td>\n",
       "      <td></td>\n",
       "      <td>GH.EP</td>\n",
       "      <td></td>\n",
       "      <td>10.426757</td>\n",
       "      <td>2023-07-01</td>\n",
       "    </tr>\n",
       "    <tr>\n",
       "      <th>60</th>\n",
       "      <td>GHA</td>\n",
       "      <td>Ghana</td>\n",
       "      <td>GHA.1_1</td>\n",
       "      <td>Ashanti</td>\n",
       "      <td></td>\n",
       "      <td></td>\n",
       "      <td>Region</td>\n",
       "      <td>Region</td>\n",
       "      <td></td>\n",
       "      <td>GH.AH</td>\n",
       "      <td></td>\n",
       "      <td>12.119068</td>\n",
       "      <td>2023-07-01</td>\n",
       "    </tr>\n",
       "    <tr>\n",
       "      <th>65</th>\n",
       "      <td>GHA</td>\n",
       "      <td>Ghana</td>\n",
       "      <td>GHA.6_1</td>\n",
       "      <td>Northern</td>\n",
       "      <td></td>\n",
       "      <td></td>\n",
       "      <td>Region</td>\n",
       "      <td>Region</td>\n",
       "      <td></td>\n",
       "      <td>GH.NP</td>\n",
       "      <td></td>\n",
       "      <td>1.659940</td>\n",
       "      <td>2023-07-01</td>\n",
       "    </tr>\n",
       "    <tr>\n",
       "      <th>66</th>\n",
       "      <td>GHA</td>\n",
       "      <td>Ghana</td>\n",
       "      <td>GHA.7_1</td>\n",
       "      <td>Upper East</td>\n",
       "      <td></td>\n",
       "      <td></td>\n",
       "      <td>Region</td>\n",
       "      <td>Region</td>\n",
       "      <td></td>\n",
       "      <td>GH.UE</td>\n",
       "      <td></td>\n",
       "      <td>3.793942</td>\n",
       "      <td>2023-07-01</td>\n",
       "    </tr>\n",
       "    <tr>\n",
       "      <th>67</th>\n",
       "      <td>GHA</td>\n",
       "      <td>Ghana</td>\n",
       "      <td>GHA.8_1</td>\n",
       "      <td>Upper West</td>\n",
       "      <td></td>\n",
       "      <td></td>\n",
       "      <td>Region</td>\n",
       "      <td>Region</td>\n",
       "      <td></td>\n",
       "      <td>GH.UW</td>\n",
       "      <td></td>\n",
       "      <td>1.566355</td>\n",
       "      <td>2023-07-01</td>\n",
       "    </tr>\n",
       "    <tr>\n",
       "      <th>68</th>\n",
       "      <td>GHA</td>\n",
       "      <td>Ghana</td>\n",
       "      <td>GHA.9_1</td>\n",
       "      <td>Volta</td>\n",
       "      <td></td>\n",
       "      <td></td>\n",
       "      <td>Region</td>\n",
       "      <td>Region</td>\n",
       "      <td></td>\n",
       "      <td>GH.TV</td>\n",
       "      <td></td>\n",
       "      <td>6.163803</td>\n",
       "      <td>2023-07-01</td>\n",
       "    </tr>\n",
       "    <tr>\n",
       "      <th>62</th>\n",
       "      <td>GHA</td>\n",
       "      <td>Ghana</td>\n",
       "      <td>GHA.3_1</td>\n",
       "      <td>Central</td>\n",
       "      <td></td>\n",
       "      <td></td>\n",
       "      <td>Region</td>\n",
       "      <td>Region</td>\n",
       "      <td></td>\n",
       "      <td>GH.CP</td>\n",
       "      <td></td>\n",
       "      <td>16.591310</td>\n",
       "      <td>2023-07-01</td>\n",
       "    </tr>\n",
       "    <tr>\n",
       "      <th>69</th>\n",
       "      <td>GHA</td>\n",
       "      <td>Ghana</td>\n",
       "      <td>GHA.10_1</td>\n",
       "      <td>Western</td>\n",
       "      <td></td>\n",
       "      <td></td>\n",
       "      <td>Region</td>\n",
       "      <td>Region</td>\n",
       "      <td></td>\n",
       "      <td>GH.WP</td>\n",
       "      <td></td>\n",
       "      <td>5.930130</td>\n",
       "      <td>2023-07-01</td>\n",
       "    </tr>\n",
       "    <tr>\n",
       "      <th>61</th>\n",
       "      <td>GHA</td>\n",
       "      <td>Ghana</td>\n",
       "      <td>GHA.2_1</td>\n",
       "      <td>Brong Ahafo</td>\n",
       "      <td></td>\n",
       "      <td></td>\n",
       "      <td>Region</td>\n",
       "      <td>Region</td>\n",
       "      <td></td>\n",
       "      <td>GH.BA</td>\n",
       "      <td></td>\n",
       "      <td>2.909303</td>\n",
       "      <td>2023-07-01</td>\n",
       "    </tr>\n",
       "    <tr>\n",
       "      <th>50</th>\n",
       "      <td>GHA</td>\n",
       "      <td>Ghana</td>\n",
       "      <td>GHA.1_1</td>\n",
       "      <td>Ashanti</td>\n",
       "      <td></td>\n",
       "      <td></td>\n",
       "      <td>Region</td>\n",
       "      <td>Region</td>\n",
       "      <td></td>\n",
       "      <td>GH.AH</td>\n",
       "      <td></td>\n",
       "      <td>15.050310</td>\n",
       "      <td>2023-07-02</td>\n",
       "    </tr>\n",
       "    <tr>\n",
       "      <th>59</th>\n",
       "      <td>GHA</td>\n",
       "      <td>Ghana</td>\n",
       "      <td>GHA.10_1</td>\n",
       "      <td>Western</td>\n",
       "      <td></td>\n",
       "      <td></td>\n",
       "      <td>Region</td>\n",
       "      <td>Region</td>\n",
       "      <td></td>\n",
       "      <td>GH.WP</td>\n",
       "      <td></td>\n",
       "      <td>6.633359</td>\n",
       "      <td>2023-07-02</td>\n",
       "    </tr>\n",
       "    <tr>\n",
       "      <th>57</th>\n",
       "      <td>GHA</td>\n",
       "      <td>Ghana</td>\n",
       "      <td>GHA.8_1</td>\n",
       "      <td>Upper West</td>\n",
       "      <td></td>\n",
       "      <td></td>\n",
       "      <td>Region</td>\n",
       "      <td>Region</td>\n",
       "      <td></td>\n",
       "      <td>GH.UW</td>\n",
       "      <td></td>\n",
       "      <td>1.480603</td>\n",
       "      <td>2023-07-02</td>\n",
       "    </tr>\n",
       "    <tr>\n",
       "      <th>56</th>\n",
       "      <td>GHA</td>\n",
       "      <td>Ghana</td>\n",
       "      <td>GHA.7_1</td>\n",
       "      <td>Upper East</td>\n",
       "      <td></td>\n",
       "      <td></td>\n",
       "      <td>Region</td>\n",
       "      <td>Region</td>\n",
       "      <td></td>\n",
       "      <td>GH.UE</td>\n",
       "      <td></td>\n",
       "      <td>3.366545</td>\n",
       "      <td>2023-07-02</td>\n",
       "    </tr>\n",
       "    <tr>\n",
       "      <th>55</th>\n",
       "      <td>GHA</td>\n",
       "      <td>Ghana</td>\n",
       "      <td>GHA.6_1</td>\n",
       "      <td>Northern</td>\n",
       "      <td></td>\n",
       "      <td></td>\n",
       "      <td>Region</td>\n",
       "      <td>Region</td>\n",
       "      <td></td>\n",
       "      <td>GH.NP</td>\n",
       "      <td></td>\n",
       "      <td>2.950923</td>\n",
       "      <td>2023-07-02</td>\n",
       "    </tr>\n",
       "  </tbody>\n",
       "</table>\n",
       "</div>"
      ],
      "text/plain": [
       "   ID_0 COUNTRY      ID_1         NAME_1 VARNAME_1 NL_NAME_1  TYPE_1  \\\n",
       "64  GHA   Ghana   GHA.5_1  Greater Accra                      Region   \n",
       "63  GHA   Ghana   GHA.4_1        Eastern                      Region   \n",
       "60  GHA   Ghana   GHA.1_1        Ashanti                      Region   \n",
       "65  GHA   Ghana   GHA.6_1       Northern                      Region   \n",
       "66  GHA   Ghana   GHA.7_1     Upper East                      Region   \n",
       "67  GHA   Ghana   GHA.8_1     Upper West                      Region   \n",
       "68  GHA   Ghana   GHA.9_1          Volta                      Region   \n",
       "62  GHA   Ghana   GHA.3_1        Central                      Region   \n",
       "69  GHA   Ghana  GHA.10_1        Western                      Region   \n",
       "61  GHA   Ghana   GHA.2_1    Brong Ahafo                      Region   \n",
       "50  GHA   Ghana   GHA.1_1        Ashanti                      Region   \n",
       "59  GHA   Ghana  GHA.10_1        Western                      Region   \n",
       "57  GHA   Ghana   GHA.8_1     Upper West                      Region   \n",
       "56  GHA   Ghana   GHA.7_1     Upper East                      Region   \n",
       "55  GHA   Ghana   GHA.6_1       Northern                      Region   \n",
       "\n",
       "   ENGTYPE_1 CC_1 HASC_1 ISO_1    ntl_mean        date  \n",
       "64    Region       GH.AA        129.232340  2023-07-01  \n",
       "63    Region       GH.EP         10.426757  2023-07-01  \n",
       "60    Region       GH.AH         12.119068  2023-07-01  \n",
       "65    Region       GH.NP          1.659940  2023-07-01  \n",
       "66    Region       GH.UE          3.793942  2023-07-01  \n",
       "67    Region       GH.UW          1.566355  2023-07-01  \n",
       "68    Region       GH.TV          6.163803  2023-07-01  \n",
       "62    Region       GH.CP         16.591310  2023-07-01  \n",
       "69    Region       GH.WP          5.930130  2023-07-01  \n",
       "61    Region       GH.BA          2.909303  2023-07-01  \n",
       "50    Region       GH.AH         15.050310  2023-07-02  \n",
       "59    Region       GH.WP          6.633359  2023-07-02  \n",
       "57    Region       GH.UW          1.480603  2023-07-02  \n",
       "56    Region       GH.UE          3.366545  2023-07-02  \n",
       "55    Region       GH.NP          2.950923  2023-07-02  "
      ]
     },
     "execution_count": 17,
     "metadata": {},
     "output_type": "execute_result"
    }
   ],
   "source": [
    "ntl_df.sort_values(by=['date']).head(15)"
   ]
  },
  {
   "cell_type": "code",
   "execution_count": null,
   "id": "dafe63b9-e6c8-4a5f-8c17-1431d62f509f",
   "metadata": {},
   "outputs": [],
   "source": []
  },
  {
   "cell_type": "code",
   "execution_count": null,
   "id": "e3781a09-c857-4cbf-bf8d-c8636dd19a8b",
   "metadata": {},
   "outputs": [],
   "source": []
  },
  {
   "cell_type": "code",
   "execution_count": null,
   "id": "021daf92-c7e9-4557-b576-2175764c82d3",
   "metadata": {},
   "outputs": [],
   "source": []
  }
 ],
 "metadata": {
  "kernelspec": {
   "display_name": "Python 3 (ipykernel)",
   "language": "python",
   "name": "python3"
  },
  "language_info": {
   "codemirror_mode": {
    "name": "ipython",
    "version": 3
   },
   "file_extension": ".py",
   "mimetype": "text/x-python",
   "name": "python",
   "nbconvert_exporter": "python",
   "pygments_lexer": "ipython3",
   "version": "3.8.13"
  }
 },
 "nbformat": 4,
 "nbformat_minor": 5
}
